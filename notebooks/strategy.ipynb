{
 "cells": [
  {
   "cell_type": "code",
   "execution_count": null,
   "id": "3f9f9c79",
   "metadata": {},
   "outputs": [],
   "source": [
    "import os\n",
    "import sys\n",
    "import logging\n",
    "\n",
    "logging.basicConfig(level=logging.DEBUG, format='%(asctime)s\\t%(levelname)s\\t%(message)s')\n",
    "\n",
    "# Use the current working directory to construct the src path, since __file__ is not defined in notebooks\n",
    "sys.path.append(os.path.abspath(os.path.join(os.getcwd(), \"..\", \"src\")))"
   ]
  },
  {
   "cell_type": "code",
   "execution_count": null,
   "id": "a646962d",
   "metadata": {},
   "outputs": [],
   "source": [
    "from strategy import NLPStrategy\n",
    "nlp_strategy = NLPStrategy()"
   ]
  },
  {
   "cell_type": "code",
   "execution_count": null,
   "id": "ac16a41f",
   "metadata": {},
   "outputs": [],
   "source": [
    "nlp_strategy.forward(r\"Theo chuẩn 3gpp ts32.296, thành phần nào trong hệ thống OCS thực hiện chức năng cấp phát, từ chối, cho phép sử dụng dịch vụ?\")"
   ]
  },
  {
   "cell_type": "code",
   "execution_count": null,
   "id": "bf0d2d6a",
   "metadata": {},
   "outputs": [],
   "source": []
  }
 ],
 "metadata": {
  "kernelspec": {
   "display_name": "netmind",
   "language": "python",
   "name": "python3"
  },
  "language_info": {
   "codemirror_mode": {
    "name": "ipython",
    "version": 3
   },
   "file_extension": ".py",
   "mimetype": "text/x-python",
   "name": "python",
   "nbconvert_exporter": "python",
   "pygments_lexer": "ipython3",
   "version": "3.10.17"
  }
 },
 "nbformat": 4,
 "nbformat_minor": 5
}
