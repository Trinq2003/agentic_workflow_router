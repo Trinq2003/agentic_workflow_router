{
 "cells": [
  {
   "cell_type": "code",
   "execution_count": null,
   "id": "3f9f9c79",
   "metadata": {},
   "outputs": [],
   "source": [
    "import os\n",
    "import sys\n",
    "import logging\n",
    "\n",
    "logging.basicConfig(level=logging.DEBUG, format='%(asctime)s\\t%(levelname)s\\t%(message)s')\n",
    "\n",
    "# Use the current working directory to construct the src path, since __file__ is not defined in notebooks\n",
    "sys.path.append(os.path.abspath(os.path.join(os.getcwd(), \"..\", \"src\")))\n",
    "\n",
    "from strategy import NLPStrategy\n",
    "nlp_strategy = NLPStrategy()"
   ]
  },
  {
   "cell_type": "code",
   "execution_count": null,
   "id": "ac16a41f",
   "metadata": {},
   "outputs": [],
   "source": [
    "# Dịch vụ ADSL là gì?\n",
    "# Mã lỗi nào chỉ ra rằng GPS đang trong quá trình cập nhật firmware?\n",
    "# - Chất lượng dịch vụ mạng 2G tại Hà Nội từ ngày 2023-01-01 đến ngày 2023-01-31? ==> pass\n",
    "# - Tra cứu chất lượng mạng 2G của TP.HCM trong quý 1 năm 2023? ==> pass\n",
    "# Hiệu suất sử dụng hạ tầng của trạm LDG0087 ==> fail\n",
    "# Số port cố định băng rộng đã được sử dụng của trạm LCU0459? ==> fail\n",
    "# Node mạng HLC9105PCD02 có địa chỉ IP là gì ==> fail\n",
    "nlp_strategy.forward(r\"Netmind là gì\")"
   ]
  },
  {
   "cell_type": "code",
   "execution_count": null,
   "id": "bf0d2d6a",
   "metadata": {},
   "outputs": [],
   "source": []
  }
 ],
 "metadata": {
  "kernelspec": {
   "display_name": "netmind",
   "language": "python",
   "name": "python3"
  },
  "language_info": {
   "codemirror_mode": {
    "name": "ipython",
    "version": 3
   },
   "file_extension": ".py",
   "mimetype": "text/x-python",
   "name": "python",
   "nbconvert_exporter": "python",
   "pygments_lexer": "ipython3",
   "version": "3.10.17"
  }
 },
 "nbformat": 4,
 "nbformat_minor": 5
}
