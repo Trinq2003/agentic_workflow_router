{
 "cells": [
  {
   "cell_type": "code",
   "execution_count": null,
   "id": "6908095a",
   "metadata": {},
   "outputs": [],
   "source": [
    "import os\n",
    "import sys\n",
    "\n",
    "# Use the current working directory to construct the src path, since __file__ is not defined in notebooks\n",
    "sys.path.append(os.path.abspath(os.path.join(os.getcwd(), \"..\", \"src\")))"
   ]
  },
  {
   "cell_type": "code",
   "execution_count": null,
   "id": "f3a78ffd",
   "metadata": {},
   "outputs": [],
   "source": [
    "from data.data_loader import DataLoader, DataLoaderConfig\n",
    "\n",
    "# Custom configuration\n",
    "config = DataLoaderConfig(\n",
    "    file_path=\"../data/dataset.xlsx\",\n",
    "    max_workers=8,  # For more parallel processing\n",
    "    chunk_size=500  # Smaller chunks for memory efficiency\n",
    ")\n",
    "loader = DataLoader(config)\n",
    "data = loader.get_processed_data()\n",
    "\n",
    "# Get data statistics\n",
    "stats = loader.get_statistics()\n",
    "print(f\"Total queries: {stats['total_queries']}\")\n",
    "print(f\"Knowledge domains: {stats['unique_knowledge_domains']}\")\n",
    "\n",
    "# Iterate through data\n",
    "for query in data[:5]:\n",
    "    print(f\"Query: {query.query}\")\n",
    "    print(f\"Domain: {query.knowledge_domain}\")\n",
    "    print(f\"Workers: {', '.join(query.workers)}\")"
   ]
  },
  {
   "cell_type": "code",
   "execution_count": null,
   "id": "5acd1026",
   "metadata": {},
   "outputs": [],
   "source": []
  }
 ],
 "metadata": {
  "kernelspec": {
   "display_name": "netmind",
   "language": "python",
   "name": "python3"
  },
  "language_info": {
   "codemirror_mode": {
    "name": "ipython",
    "version": 3
   },
   "file_extension": ".py",
   "mimetype": "text/x-python",
   "name": "python",
   "nbconvert_exporter": "python",
   "pygments_lexer": "ipython3",
   "version": "3.10.17"
  }
 },
 "nbformat": 4,
 "nbformat_minor": 5
}
