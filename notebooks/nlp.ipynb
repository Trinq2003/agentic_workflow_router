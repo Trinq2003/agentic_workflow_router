{
 "cells": [
  {
   "cell_type": "code",
   "execution_count": null,
   "id": "212704ea",
   "metadata": {},
   "outputs": [],
   "source": [
    "import os\n",
    "import sys\n",
    "\n",
    "# Use the current working directory to construct the src path, since __file__ is not defined in notebooks\n",
    "sys.path.append(os.path.abspath(os.path.join(os.getcwd(), \"..\", \"src\")))"
   ]
  },
  {
   "cell_type": "code",
   "execution_count": null,
   "id": "64cd8c2d",
   "metadata": {},
   "outputs": [],
   "source": [
    "from models.nlp_models.underthesea import UndertheseaModel\n",
    "from models.config import NLPConfig\n",
    "\n",
    "model = UndertheseaModel(NLPConfig())"
   ]
  },
  {
   "cell_type": "code",
   "execution_count": null,
   "id": "1fcf269a",
   "metadata": {},
   "outputs": [],
   "source": [
    "query = \"Tôi là Nguyễn Quang Tri, và tôi đang phát triển tính năng classifier cho NetMind\"\n",
    "print(f\"Tokenize: {model.tokenize(query)}\")\n",
    "print(f\"POS Tag: {model.pos_tag(query)}\")\n",
    "print(f\"Extract Entities: {model.extract_entities(query)}\")\n",
    "print(f\"Analyze Sentiment: {model.analyze_sentiment(query)}\")\n",
    "print(f\"Parse Dependencies: {model.parse_dependencies(query)}\")"
   ]
  },
  {
   "cell_type": "code",
   "execution_count": null,
   "id": "ab673f04",
   "metadata": {},
   "outputs": [],
   "source": [
    "query = \"Tôi là Nguyễn Quang Tri, và tôi là kỹ sư trí tuệ nhân tạo tại Viettel Networks.\"\n",
    "print(f\"Tokenize: {model.tokenize(query)}\")\n",
    "print(f\"POS Tag: {model.pos_tag(query)}\")\n",
    "print(f\"Extract Entities: {model.extract_entities(query)}\")\n",
    "print(f\"Analyze Sentiment: {model.analyze_sentiment(query)}\")\n",
    "print(f\"Parse Dependencies: {model.parse_dependencies(query)}\")"
   ]
  },
  {
   "cell_type": "code",
   "execution_count": null,
   "id": "e164527b",
   "metadata": {},
   "outputs": [],
   "source": [
    "query = \"Hiện tại tôi đang làm việc ở phòng TTNT, tôi đang buồn dữ lắm\"\n",
    "print(f\"Tokenize: {model.tokenize(query)}\")\n",
    "print(f\"POS Tag: {model.pos_tag(query)}\")\n",
    "print(f\"Extract Entities: {model.extract_entities(query)}\")\n",
    "print(f\"Analyze Sentiment: {model.analyze_sentiment(query)}\")\n",
    "print(f\"Parse Dependencies: {model.parse_dependencies(query)}\")"
   ]
  },
  {
   "cell_type": "code",
   "execution_count": null,
   "id": "1fbefcdb",
   "metadata": {},
   "outputs": [],
   "source": []
  }
 ],
 "metadata": {
  "kernelspec": {
   "display_name": "netmind",
   "language": "python",
   "name": "python3"
  },
  "language_info": {
   "codemirror_mode": {
    "name": "ipython",
    "version": 3
   },
   "file_extension": ".py",
   "mimetype": "text/x-python",
   "name": "python",
   "nbconvert_exporter": "python",
   "pygments_lexer": "ipython3",
   "version": "3.10.17"
  }
 },
 "nbformat": 4,
 "nbformat_minor": 5
}
